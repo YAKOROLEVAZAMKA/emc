{
 "cells": [
  {
   "cell_type": "code",
   "execution_count": 2,
   "metadata": {},
   "outputs": [],
   "source": [
    "def build_subplots(df, values, dictionary, x, y, colors):\n",
    "    k = 0\n",
    "    for i in range(x):\n",
    "        for j in range(y):\n",
    "            ax = df[df['age_cat'] == values[k]]['show'].value_counts().sort_index().plot.bar(ax=axes[i][j], color=colors[k])\n",
    "            axes[i][j].set_title(dictionary[values[k]], fontsize=18)\n",
    "            axes[i][j].set_xticklabels(['Пропустили', 'Посетили'], rotation='horizontal')\n",
    "                            \n",
    "            k += 1\n",
    "            \n",
    "            # annotate\n",
    "            ax.bar_label(ax.containers[0], label_type='edge')\n",
    "            ax.margins(y=0.1)\n",
    "            \n",
    "def build_subplots_percent(df, values, dictionary, x, y, colors):\n",
    "    k = 0\n",
    "    for i in range(x):\n",
    "        for j in range(y):\n",
    "            ax = (\n",
    "                round(\n",
    "                    df[df['age_cat'] == values[k]]['show']\n",
    "                    .value_counts()\n",
    "                    .sort_index() / df[df['age_cat'] == values[k]]['show']\n",
    "                                    .count() * 100, 2\n",
    "                )\n",
    "            ).plot.bar(\n",
    "                ax=axes[i][j], \n",
    "                color=colors[k]\n",
    "            )\n",
    "            \n",
    "            axes[i][j].set_title(dictionary[values[k]], fontsize=18)\n",
    "            axes[i][j].set_xticklabels(['Пропустили', 'Посетили'], rotation='horizontal')\n",
    "                            \n",
    "            k += 1\n",
    "            \n",
    "            # annotate\n",
    "            ax.bar_label(ax.containers[0], label_type='edge')\n",
    "            ax.margins(y=0.1)            \n",
    "                        \n",
    "colors = ['green', 'blue', 'darkgreen', 'lightblue', 'gray', 'black', 'pink', 'darkgray']   "
   ]
  },
  {
   "cell_type": "code",
   "execution_count": null,
   "metadata": {},
   "outputs": [],
   "source": []
  }
 ],
 "metadata": {
  "kernelspec": {
   "display_name": "Python 3",
   "language": "python",
   "name": "python3"
  },
  "language_info": {
   "codemirror_mode": {
    "name": "ipython",
    "version": 3
   },
   "file_extension": ".py",
   "mimetype": "text/x-python",
   "name": "python",
   "nbconvert_exporter": "python",
   "pygments_lexer": "ipython3",
   "version": "3.7.6"
  }
 },
 "nbformat": 4,
 "nbformat_minor": 4
}
