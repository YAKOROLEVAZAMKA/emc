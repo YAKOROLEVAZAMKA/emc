{
 "cells": [
  {
   "cell_type": "markdown",
   "metadata": {
    "id": "MG-bbLZjmZx0"
   },
   "source": [
    "# Practice\n",
    "Failure to see a doctor is a serious public health problem. Missed appointments cost the US healthcare system nearly [$ 200 each](https://www.ncbi.nlm.nih.gov/pmc/articles/PMC4714455/). Therefore, it should come as no surprise that reducing absenteeism has become a priority in the United States and around the world. [Numerous studies](https://www.ncbi.nlm.nih.gov/pmc/articles/PMC3962267/) have been conducted to identify the most effective means of reducing absenteeism. The first step to solving the problem is to understand why the patient is missing a scheduled appointment.\n",
    "\n",
    "[Data](https://drive.google.com/open?id=1bvlBkt0AYFw6ZLSjB41xHLnCLkweXxXE),\n",
    "\n",
    "A description of the data can be found at [Kaggle](https://www.kaggle.com/joniarroba/noshowappointments)"
   ]
  },
  {
   "cell_type": "markdown",
   "metadata": {
    "id": "Cc4uCMMyFCsv"
   },
   "source": [
    "We want to answer essentially two questions:\n",
    "\n",
    "\n",
    "1. What is the profile of a person who misses scheduled visits to the doctor?\n",
    "2. What factors influence a no show?\n",
    "\n",
    "Keep this in mind. Accompany your answers with charts, do not forget to label the axes and titles, and also choose not the type of visualization that you understand how it works, but the one that is right for the task."
   ]
  },
  {
   "cell_type": "code",
   "execution_count": 3,
   "metadata": {
    "id": "tpyDsaC-mbE8"
   },
   "outputs": [],
   "source": [
    "import pandas as pd\n",
    "import numpy as np\n",
    "import matplotlib.pyplot as plt\n",
    "import datetime\n",
    "import time\n",
    "import seaborn as sns"
   ]
  },
  {
   "cell_type": "code",
   "execution_count": null,
   "metadata": {
    "id": "rpVCC37Wvcov"
   },
   "outputs": [],
   "source": [
    "df = pd.read_csv('KaggleV2-May-2016.csv')"
   ]
  },
  {
   "cell_type": "markdown",
   "metadata": {
    "id": "wa21BIWW_er9"
   },
   "source": [
    "#### Task 0\n",
    "Change the no-show column to the show column to remove double negation"
   ]
  },
  {
   "cell_type": "code",
   "execution_count": null,
   "metadata": {
    "id": "O-GRaGD3_pu2"
   },
   "outputs": [],
   "source": []
  },
  {
   "cell_type": "markdown",
   "metadata": {
    "id": "UDw6XbNvFvKu"
   },
   "source": [
    "#### Task 1\n",
    "Check data for gaps and outliers"
   ]
  },
  {
   "cell_type": "code",
   "execution_count": null,
   "metadata": {
    "id": "LmqXggKkFoSO"
   },
   "outputs": [],
   "source": []
  },
  {
   "cell_type": "markdown",
   "metadata": {
    "id": "Uv5otPJkF3F9"
   },
   "source": [
    "#### Task 2\n",
    "Cast columns to correct data types (at least temporary)"
   ]
  },
  {
   "cell_type": "code",
   "execution_count": null,
   "metadata": {
    "id": "jTyfe3frGDVS"
   },
   "outputs": [],
   "source": []
  },
  {
   "cell_type": "markdown",
   "metadata": {
    "id": "IdkgSpdVGFut"
   },
   "source": [
    "#### Task 3\n",
    "Check age ranges (Age)\n",
    "\n",
    "Are there any entries that seem suspicious to you?\n",
    "Should these records be kept or should they be removed? Why do you think so (the description of the data on the kaggle website can help in solving this question)?"
   ]
  },
  {
   "cell_type": "code",
   "execution_count": null,
   "metadata": {
    "id": "w0ZaIvkTGmkv"
   },
   "outputs": [],
   "source": []
  },
  {
   "cell_type": "markdown",
   "metadata": {
    "id": "2VqmVFFZHcGy"
   },
   "source": [
    "#### Task 4\n",
    "Are the patients unique in our table? Are we dealing with a list of one-off appointments, or at least some of them are regular?"
   ]
  },
  {
   "cell_type": "code",
   "execution_count": null,
   "metadata": {
    "id": "iD2fl_toHtj_"
   },
   "outputs": [],
   "source": []
  },
  {
   "cell_type": "markdown",
   "metadata": {
    "id": "j4CJ2UHoH_DW"
   },
   "source": [
    "#### Task 5\n",
    "If we have repeated visits, does the number (1st, 2nd, 3rd ...) of the reception somehow affect the turnout? Where absenteeism occurs more often, for regular visits or for one-off?"
   ]
  },
  {
   "cell_type": "code",
   "execution_count": null,
   "metadata": {
    "id": "r6fShmlRIM0a"
   },
   "outputs": [],
   "source": []
  },
  {
   "cell_type": "markdown",
   "metadata": {
    "id": "GTQDSs-LGnLa"
   },
   "source": [
    "#### Task 6\n",
    "Explore the effect of age on turnout"
   ]
  },
  {
   "cell_type": "code",
   "execution_count": null,
   "metadata": {
    "id": "SNCM5KCVHLdJ"
   },
   "outputs": [],
   "source": []
  },
  {
   "cell_type": "markdown",
   "metadata": {
    "id": "49LJL5F9IOyi"
   },
   "source": [
    "#### Task 7\n",
    "For the breakdown by age, add a breakdown by gender. Maybe one gender skips receptions more often than the other? In all age groups, we can confidently compare the chance of missing (in other words, is there a bias in any of the groups towards men or women in the number of appointments)?"
   ]
  },
  {
   "cell_type": "code",
   "execution_count": null,
   "metadata": {
    "id": "U_BCYhzfIzph"
   },
   "outputs": [],
   "source": []
  },
  {
   "cell_type": "markdown",
   "metadata": {
    "id": "UUjuB0jVI6zf"
   },
   "source": [
    "#### Task 8\n",
    "Investigate the effect of waiting time on attendance. You can use the same approach as in task 5."
   ]
  },
  {
   "cell_type": "code",
   "execution_count": null,
   "metadata": {
    "id": "9iFSgX17JTDs"
   },
   "outputs": [],
   "source": []
  },
  {
   "cell_type": "markdown",
   "metadata": {
    "id": "IonkKH8BJToj"
   },
   "source": [
    "#### Task 9\n",
    "In general, for the sample, does SMS affect turnout?"
   ]
  },
  {
   "cell_type": "code",
   "execution_count": null,
   "metadata": {
    "id": "AAi8NohQKQPw"
   },
   "outputs": [],
   "source": []
  },
  {
   "cell_type": "markdown",
   "metadata": {
    "id": "s6OZOS0qKSkb"
   },
   "source": [
    "#### Task 10\n",
    "Investigate the impact of texting on truant turnout. A truant is someone who missed an appointment at least once.\n",
    "\n",
    "Are these conclusions correct for those patients who had more than 1 entry (> = 5 entries)?"
   ]
  },
  {
   "cell_type": "code",
   "execution_count": null,
   "metadata": {
    "id": "GwaN8DouKgFQ"
   },
   "outputs": [],
   "source": []
  },
  {
   "cell_type": "markdown",
   "metadata": {
    "id": "O0Ia8qaaouDi"
   },
   "source": [
    "### Task 11\n",
    "Conduct a cohort analysis for customers of the online store, displaying retention (the percentage of customers in the cohort in the period 1-2-3, etc.).\n"
   ]
  },
  {
   "cell_type": "markdown",
   "metadata": {
    "id": "ZmqUhZYBq2c8"
   },
   "source": [
    "Data for work can be downloaded via the [link](https://drive.google.com/file/d/1K5LLBiCZ6p_34ANiMo0rI46xMdP5ZfRT/view?usp=sharing). This is data on the sales of goods from one online store, the data contains the number of the receipt, the number of the item in the warehouse, its description, the number of items in the check line, date, price per unit, customer ID, as well as the country in which the sale took place."
   ]
  },
  {
   "cell_type": "code",
   "execution_count": 4,
   "metadata": {
    "id": "YdA06sGVDGpz"
   },
   "outputs": [],
   "source": [
    "url = 'https://drive.google.com/file/d/1K5LLBiCZ6p_34ANiMo0rI46xMdP5ZfRT/view'\n",
    "path = 'https://drive.google.com/uc?export=download&id=' + url.split('/')[-2]\n",
    "data: pd.DataFrame = pd.read_csv(path, encoding='latin1')"
   ]
  },
  {
   "cell_type": "code",
   "execution_count": 5,
   "metadata": {},
   "outputs": [
    {
     "data": {
      "text/html": [
       "<div>\n",
       "<style scoped>\n",
       "    .dataframe tbody tr th:only-of-type {\n",
       "        vertical-align: middle;\n",
       "    }\n",
       "\n",
       "    .dataframe tbody tr th {\n",
       "        vertical-align: top;\n",
       "    }\n",
       "\n",
       "    .dataframe thead th {\n",
       "        text-align: right;\n",
       "    }\n",
       "</style>\n",
       "<table border=\"1\" class=\"dataframe\">\n",
       "  <thead>\n",
       "    <tr style=\"text-align: right;\">\n",
       "      <th></th>\n",
       "      <th>InvoiceNo</th>\n",
       "      <th>StockCode</th>\n",
       "      <th>Description</th>\n",
       "      <th>Quantity</th>\n",
       "      <th>InvoiceDate</th>\n",
       "      <th>UnitPrice</th>\n",
       "      <th>CustomerID</th>\n",
       "      <th>Country</th>\n",
       "    </tr>\n",
       "  </thead>\n",
       "  <tbody>\n",
       "    <tr>\n",
       "      <th>0</th>\n",
       "      <td>536365</td>\n",
       "      <td>85123A</td>\n",
       "      <td>WHITE HANGING HEART T-LIGHT HOLDER</td>\n",
       "      <td>6</td>\n",
       "      <td>12/1/2010 8:26</td>\n",
       "      <td>2.55</td>\n",
       "      <td>17850.0</td>\n",
       "      <td>United Kingdom</td>\n",
       "    </tr>\n",
       "    <tr>\n",
       "      <th>1</th>\n",
       "      <td>536365</td>\n",
       "      <td>71053</td>\n",
       "      <td>WHITE METAL LANTERN</td>\n",
       "      <td>6</td>\n",
       "      <td>12/1/2010 8:26</td>\n",
       "      <td>3.39</td>\n",
       "      <td>17850.0</td>\n",
       "      <td>United Kingdom</td>\n",
       "    </tr>\n",
       "    <tr>\n",
       "      <th>2</th>\n",
       "      <td>536365</td>\n",
       "      <td>84406B</td>\n",
       "      <td>CREAM CUPID HEARTS COAT HANGER</td>\n",
       "      <td>8</td>\n",
       "      <td>12/1/2010 8:26</td>\n",
       "      <td>2.75</td>\n",
       "      <td>17850.0</td>\n",
       "      <td>United Kingdom</td>\n",
       "    </tr>\n",
       "    <tr>\n",
       "      <th>3</th>\n",
       "      <td>536365</td>\n",
       "      <td>84029G</td>\n",
       "      <td>KNITTED UNION FLAG HOT WATER BOTTLE</td>\n",
       "      <td>6</td>\n",
       "      <td>12/1/2010 8:26</td>\n",
       "      <td>3.39</td>\n",
       "      <td>17850.0</td>\n",
       "      <td>United Kingdom</td>\n",
       "    </tr>\n",
       "    <tr>\n",
       "      <th>4</th>\n",
       "      <td>536365</td>\n",
       "      <td>84029E</td>\n",
       "      <td>RED WOOLLY HOTTIE WHITE HEART.</td>\n",
       "      <td>6</td>\n",
       "      <td>12/1/2010 8:26</td>\n",
       "      <td>3.39</td>\n",
       "      <td>17850.0</td>\n",
       "      <td>United Kingdom</td>\n",
       "    </tr>\n",
       "    <tr>\n",
       "      <th>5</th>\n",
       "      <td>536365</td>\n",
       "      <td>22752</td>\n",
       "      <td>SET 7 BABUSHKA NESTING BOXES</td>\n",
       "      <td>2</td>\n",
       "      <td>12/1/2010 8:26</td>\n",
       "      <td>7.65</td>\n",
       "      <td>17850.0</td>\n",
       "      <td>United Kingdom</td>\n",
       "    </tr>\n",
       "    <tr>\n",
       "      <th>6</th>\n",
       "      <td>536365</td>\n",
       "      <td>21730</td>\n",
       "      <td>GLASS STAR FROSTED T-LIGHT HOLDER</td>\n",
       "      <td>6</td>\n",
       "      <td>12/1/2010 8:26</td>\n",
       "      <td>4.25</td>\n",
       "      <td>17850.0</td>\n",
       "      <td>United Kingdom</td>\n",
       "    </tr>\n",
       "    <tr>\n",
       "      <th>7</th>\n",
       "      <td>536366</td>\n",
       "      <td>22633</td>\n",
       "      <td>HAND WARMER UNION JACK</td>\n",
       "      <td>6</td>\n",
       "      <td>12/1/2010 8:28</td>\n",
       "      <td>1.85</td>\n",
       "      <td>17850.0</td>\n",
       "      <td>United Kingdom</td>\n",
       "    </tr>\n",
       "    <tr>\n",
       "      <th>8</th>\n",
       "      <td>536366</td>\n",
       "      <td>22632</td>\n",
       "      <td>HAND WARMER RED POLKA DOT</td>\n",
       "      <td>6</td>\n",
       "      <td>12/1/2010 8:28</td>\n",
       "      <td>1.85</td>\n",
       "      <td>17850.0</td>\n",
       "      <td>United Kingdom</td>\n",
       "    </tr>\n",
       "    <tr>\n",
       "      <th>9</th>\n",
       "      <td>536367</td>\n",
       "      <td>84879</td>\n",
       "      <td>ASSORTED COLOUR BIRD ORNAMENT</td>\n",
       "      <td>32</td>\n",
       "      <td>12/1/2010 8:34</td>\n",
       "      <td>1.69</td>\n",
       "      <td>13047.0</td>\n",
       "      <td>United Kingdom</td>\n",
       "    </tr>\n",
       "  </tbody>\n",
       "</table>\n",
       "</div>"
      ],
      "text/plain": [
       "  InvoiceNo StockCode                          Description  Quantity  \\\n",
       "0    536365    85123A   WHITE HANGING HEART T-LIGHT HOLDER         6   \n",
       "1    536365     71053                  WHITE METAL LANTERN         6   \n",
       "2    536365    84406B       CREAM CUPID HEARTS COAT HANGER         8   \n",
       "3    536365    84029G  KNITTED UNION FLAG HOT WATER BOTTLE         6   \n",
       "4    536365    84029E       RED WOOLLY HOTTIE WHITE HEART.         6   \n",
       "5    536365     22752         SET 7 BABUSHKA NESTING BOXES         2   \n",
       "6    536365     21730    GLASS STAR FROSTED T-LIGHT HOLDER         6   \n",
       "7    536366     22633               HAND WARMER UNION JACK         6   \n",
       "8    536366     22632            HAND WARMER RED POLKA DOT         6   \n",
       "9    536367     84879        ASSORTED COLOUR BIRD ORNAMENT        32   \n",
       "\n",
       "      InvoiceDate  UnitPrice  CustomerID         Country  \n",
       "0  12/1/2010 8:26       2.55     17850.0  United Kingdom  \n",
       "1  12/1/2010 8:26       3.39     17850.0  United Kingdom  \n",
       "2  12/1/2010 8:26       2.75     17850.0  United Kingdom  \n",
       "3  12/1/2010 8:26       3.39     17850.0  United Kingdom  \n",
       "4  12/1/2010 8:26       3.39     17850.0  United Kingdom  \n",
       "5  12/1/2010 8:26       7.65     17850.0  United Kingdom  \n",
       "6  12/1/2010 8:26       4.25     17850.0  United Kingdom  \n",
       "7  12/1/2010 8:28       1.85     17850.0  United Kingdom  \n",
       "8  12/1/2010 8:28       1.85     17850.0  United Kingdom  \n",
       "9  12/1/2010 8:34       1.69     13047.0  United Kingdom  "
      ]
     },
     "execution_count": 5,
     "metadata": {},
     "output_type": "execute_result"
    }
   ],
   "source": [
    "data.head(10)"
   ]
  },
  {
   "cell_type": "code",
   "execution_count": 6,
   "metadata": {},
   "outputs": [
    {
     "name": "stdout",
     "output_type": "stream",
     "text": [
      "<class 'pandas.core.frame.DataFrame'>\n",
      "RangeIndex: 541909 entries, 0 to 541908\n",
      "Data columns (total 8 columns):\n",
      " #   Column       Non-Null Count   Dtype  \n",
      "---  ------       --------------   -----  \n",
      " 0   InvoiceNo    541909 non-null  object \n",
      " 1   StockCode    541909 non-null  object \n",
      " 2   Description  540455 non-null  object \n",
      " 3   Quantity     541909 non-null  int64  \n",
      " 4   InvoiceDate  541909 non-null  object \n",
      " 5   UnitPrice    541909 non-null  float64\n",
      " 6   CustomerID   406829 non-null  float64\n",
      " 7   Country      541909 non-null  object \n",
      "dtypes: float64(2), int64(1), object(5)\n",
      "memory usage: 33.1+ MB\n"
     ]
    }
   ],
   "source": [
    "data.info()"
   ]
  },
  {
   "cell_type": "code",
   "execution_count": 7,
   "metadata": {},
   "outputs": [
    {
     "name": "stdout",
     "output_type": "stream",
     "text": [
      "0\n"
     ]
    }
   ],
   "source": [
    "# находим заказы быз ИД покупателей\n",
    "lost_customers = list(data[data['CustomerID'].isna()]['InvoiceNo'].unique())\n",
    "# проверяем есть ли среди этих заказов ИД покупателей (чтобы на основе них заполнить пропуски)\n",
    "print(len(data[(data['InvoiceNo'].isin(lost_customers)) & (data['CustomerID'].notna())]))"
   ]
  },
  {
   "cell_type": "code",
   "execution_count": 8,
   "metadata": {},
   "outputs": [],
   "source": [
    "# заполнить пропуски не получиться - избавляемся от них\n",
    "data = data[~data['CustomerID'].isna()].reset_index(drop=True)"
   ]
  },
  {
   "cell_type": "code",
   "execution_count": 9,
   "metadata": {},
   "outputs": [],
   "source": [
    "# to datetime\n",
    "data['InvoiceDate'] = pd.to_datetime(data['InvoiceDate'])\n",
    "# astype\n",
    "data['CustomerID'] = data['CustomerID'].astype(int)"
   ]
  },
  {
   "cell_type": "markdown",
   "metadata": {},
   "source": [
    "### COHORT ANALYSIS"
   ]
  },
  {
   "cell_type": "code",
   "execution_count": 13,
   "metadata": {},
   "outputs": [
    {
     "data": {
      "text/html": [
       "<div>\n",
       "<style scoped>\n",
       "    .dataframe tbody tr th:only-of-type {\n",
       "        vertical-align: middle;\n",
       "    }\n",
       "\n",
       "    .dataframe tbody tr th {\n",
       "        vertical-align: top;\n",
       "    }\n",
       "\n",
       "    .dataframe thead th {\n",
       "        text-align: right;\n",
       "    }\n",
       "</style>\n",
       "<table border=\"1\" class=\"dataframe\">\n",
       "  <thead>\n",
       "    <tr style=\"text-align: right;\">\n",
       "      <th></th>\n",
       "      <th>CustomerID</th>\n",
       "      <th>first_visit</th>\n",
       "    </tr>\n",
       "  </thead>\n",
       "  <tbody>\n",
       "    <tr>\n",
       "      <th>0</th>\n",
       "      <td>12346</td>\n",
       "      <td>2011-01-18 10:01:00</td>\n",
       "    </tr>\n",
       "    <tr>\n",
       "      <th>1</th>\n",
       "      <td>12347</td>\n",
       "      <td>2010-12-07 14:57:00</td>\n",
       "    </tr>\n",
       "    <tr>\n",
       "      <th>2</th>\n",
       "      <td>12348</td>\n",
       "      <td>2010-12-16 19:09:00</td>\n",
       "    </tr>\n",
       "    <tr>\n",
       "      <th>3</th>\n",
       "      <td>12349</td>\n",
       "      <td>2011-11-21 09:51:00</td>\n",
       "    </tr>\n",
       "    <tr>\n",
       "      <th>4</th>\n",
       "      <td>12350</td>\n",
       "      <td>2011-02-02 16:01:00</td>\n",
       "    </tr>\n",
       "  </tbody>\n",
       "</table>\n",
       "</div>"
      ],
      "text/plain": [
       "   CustomerID         first_visit\n",
       "0       12346 2011-01-18 10:01:00\n",
       "1       12347 2010-12-07 14:57:00\n",
       "2       12348 2010-12-16 19:09:00\n",
       "3       12349 2011-11-21 09:51:00\n",
       "4       12350 2011-02-02 16:01:00"
      ]
     },
     "execution_count": 13,
     "metadata": {},
     "output_type": "execute_result"
    }
   ],
   "source": [
    "# находим дату первого заказа по каждому покупателю\n",
    "first_visit = data.groupby(['CustomerID'])['InvoiceDate'].min().reset_index()\n",
    "first_visit.columns = ['CustomerID', 'first_visit']\n",
    "first_visit.head()"
   ]
  },
  {
   "cell_type": "code",
   "execution_count": 17,
   "metadata": {},
   "outputs": [],
   "source": [
    "# добавляем данные по дате первой покупки\n",
    "data = data.merge(first_visit)\n",
    "\n",
    "# добавляем месяц первой покупки\n",
    "data['first_visit_month'] = data['first_visit'].astype('datetime64[M]')\n",
    "# добавляем месяц текущей покупки\n",
    "data['visit_month'] = data['InvoiceDate'].astype('datetime64[M]')\n",
    "\n",
    "# считаем текущую когорту (месяц текущего посещения - месяц первого посещения)\n",
    "data['lifetime'] = (data['visit_month'] - data['first_visit_month']) / np.timedelta64(1, 'M')\n",
    "data['lifetime'] = data['lifetime'].round().astype('int')\n",
    "\n",
    "# группируем данные по первому месяцу посещения и по когортам, подсчитывая количество уникальных покупателей\n",
    "cohort_visits = data.groupby(['first_visit_month', 'lifetime']).agg({'CustomerID': 'nunique'}).reset_index()\n",
    "\n",
    "# фильтруем получившуюся таблицу по первой (нулевой) когорте, оставляя только данные по уникальным покупателям\n",
    "f_uid = cohort_visits[cohort_visits['lifetime'] == 0][['first_visit_month', 'CustomerID']]\n",
    "f_uid.columns = ['first_visit_month', 'f_CustomerID']\n",
    "\n",
    "# соединяем первую (нулевую) когорту со всему когортами\n",
    "cohort_visits = cohort_visits.merge(f_uid)\n",
    "\n",
    "# считаем процентное соотношение по когортам (отношение вернувшихся покупателей к нулевой когорте)\n",
    "cohort_visits['retention'] = cohort_visits['CustomerID'] / cohort_visits['f_CustomerID']\n",
    "\n",
    "# строим сводную таблицу по месяцу первого посещения в разрезе когорт\n",
    "visits_retention_pivot = cohort_visits.pivot_table(index='first_visit_month', \n",
    "                                                   columns='lifetime', values='retention', aggfunc='sum')"
   ]
  },
  {
   "cell_type": "code",
   "execution_count": 18,
   "metadata": {},
   "outputs": [
    {
     "data": {
      "text/html": [
       "<div>\n",
       "<style scoped>\n",
       "    .dataframe tbody tr th:only-of-type {\n",
       "        vertical-align: middle;\n",
       "    }\n",
       "\n",
       "    .dataframe tbody tr th {\n",
       "        vertical-align: top;\n",
       "    }\n",
       "\n",
       "    .dataframe thead th {\n",
       "        text-align: right;\n",
       "    }\n",
       "</style>\n",
       "<table border=\"1\" class=\"dataframe\">\n",
       "  <thead>\n",
       "    <tr style=\"text-align: right;\">\n",
       "      <th>lifetime</th>\n",
       "      <th>0</th>\n",
       "      <th>1</th>\n",
       "      <th>2</th>\n",
       "      <th>3</th>\n",
       "      <th>4</th>\n",
       "      <th>5</th>\n",
       "      <th>6</th>\n",
       "      <th>7</th>\n",
       "      <th>8</th>\n",
       "      <th>9</th>\n",
       "      <th>10</th>\n",
       "      <th>11</th>\n",
       "      <th>12</th>\n",
       "    </tr>\n",
       "    <tr>\n",
       "      <th>first_visit_month</th>\n",
       "      <th></th>\n",
       "      <th></th>\n",
       "      <th></th>\n",
       "      <th></th>\n",
       "      <th></th>\n",
       "      <th></th>\n",
       "      <th></th>\n",
       "      <th></th>\n",
       "      <th></th>\n",
       "      <th></th>\n",
       "      <th></th>\n",
       "      <th></th>\n",
       "      <th></th>\n",
       "    </tr>\n",
       "  </thead>\n",
       "  <tbody>\n",
       "    <tr>\n",
       "      <th>2010-12-01</th>\n",
       "      <td>1.0</td>\n",
       "      <td>0.381857</td>\n",
       "      <td>0.334388</td>\n",
       "      <td>0.387131</td>\n",
       "      <td>0.359705</td>\n",
       "      <td>0.396624</td>\n",
       "      <td>0.379747</td>\n",
       "      <td>0.354430</td>\n",
       "      <td>0.354430</td>\n",
       "      <td>0.394515</td>\n",
       "      <td>0.373418</td>\n",
       "      <td>0.500000</td>\n",
       "      <td>0.274262</td>\n",
       "    </tr>\n",
       "    <tr>\n",
       "      <th>2011-01-01</th>\n",
       "      <td>1.0</td>\n",
       "      <td>0.239905</td>\n",
       "      <td>0.282660</td>\n",
       "      <td>0.242280</td>\n",
       "      <td>0.327791</td>\n",
       "      <td>0.299287</td>\n",
       "      <td>0.261283</td>\n",
       "      <td>0.256532</td>\n",
       "      <td>0.311164</td>\n",
       "      <td>0.346793</td>\n",
       "      <td>0.368171</td>\n",
       "      <td>0.149644</td>\n",
       "      <td>NaN</td>\n",
       "    </tr>\n",
       "    <tr>\n",
       "      <th>2011-02-01</th>\n",
       "      <td>1.0</td>\n",
       "      <td>0.247368</td>\n",
       "      <td>0.192105</td>\n",
       "      <td>0.278947</td>\n",
       "      <td>0.268421</td>\n",
       "      <td>0.247368</td>\n",
       "      <td>0.255263</td>\n",
       "      <td>0.281579</td>\n",
       "      <td>0.257895</td>\n",
       "      <td>0.313158</td>\n",
       "      <td>0.092105</td>\n",
       "      <td>NaN</td>\n",
       "      <td>NaN</td>\n",
       "    </tr>\n",
       "    <tr>\n",
       "      <th>2011-03-01</th>\n",
       "      <td>1.0</td>\n",
       "      <td>0.190909</td>\n",
       "      <td>0.254545</td>\n",
       "      <td>0.218182</td>\n",
       "      <td>0.231818</td>\n",
       "      <td>0.177273</td>\n",
       "      <td>0.263636</td>\n",
       "      <td>0.238636</td>\n",
       "      <td>0.288636</td>\n",
       "      <td>0.088636</td>\n",
       "      <td>NaN</td>\n",
       "      <td>NaN</td>\n",
       "      <td>NaN</td>\n",
       "    </tr>\n",
       "    <tr>\n",
       "      <th>2011-04-01</th>\n",
       "      <td>1.0</td>\n",
       "      <td>0.227425</td>\n",
       "      <td>0.220736</td>\n",
       "      <td>0.210702</td>\n",
       "      <td>0.207358</td>\n",
       "      <td>0.237458</td>\n",
       "      <td>0.230769</td>\n",
       "      <td>0.260870</td>\n",
       "      <td>0.083612</td>\n",
       "      <td>NaN</td>\n",
       "      <td>NaN</td>\n",
       "      <td>NaN</td>\n",
       "      <td>NaN</td>\n",
       "    </tr>\n",
       "    <tr>\n",
       "      <th>2011-05-01</th>\n",
       "      <td>1.0</td>\n",
       "      <td>0.236559</td>\n",
       "      <td>0.172043</td>\n",
       "      <td>0.172043</td>\n",
       "      <td>0.215054</td>\n",
       "      <td>0.243728</td>\n",
       "      <td>0.265233</td>\n",
       "      <td>0.103943</td>\n",
       "      <td>NaN</td>\n",
       "      <td>NaN</td>\n",
       "      <td>NaN</td>\n",
       "      <td>NaN</td>\n",
       "      <td>NaN</td>\n",
       "    </tr>\n",
       "    <tr>\n",
       "      <th>2011-06-01</th>\n",
       "      <td>1.0</td>\n",
       "      <td>0.208511</td>\n",
       "      <td>0.187234</td>\n",
       "      <td>0.272340</td>\n",
       "      <td>0.246809</td>\n",
       "      <td>0.336170</td>\n",
       "      <td>0.102128</td>\n",
       "      <td>NaN</td>\n",
       "      <td>NaN</td>\n",
       "      <td>NaN</td>\n",
       "      <td>NaN</td>\n",
       "      <td>NaN</td>\n",
       "      <td>NaN</td>\n",
       "    </tr>\n",
       "    <tr>\n",
       "      <th>2011-07-01</th>\n",
       "      <td>1.0</td>\n",
       "      <td>0.209424</td>\n",
       "      <td>0.204188</td>\n",
       "      <td>0.230366</td>\n",
       "      <td>0.272251</td>\n",
       "      <td>0.115183</td>\n",
       "      <td>NaN</td>\n",
       "      <td>NaN</td>\n",
       "      <td>NaN</td>\n",
       "      <td>NaN</td>\n",
       "      <td>NaN</td>\n",
       "      <td>NaN</td>\n",
       "      <td>NaN</td>\n",
       "    </tr>\n",
       "    <tr>\n",
       "      <th>2011-08-01</th>\n",
       "      <td>1.0</td>\n",
       "      <td>0.251497</td>\n",
       "      <td>0.251497</td>\n",
       "      <td>0.251497</td>\n",
       "      <td>0.137725</td>\n",
       "      <td>NaN</td>\n",
       "      <td>NaN</td>\n",
       "      <td>NaN</td>\n",
       "      <td>NaN</td>\n",
       "      <td>NaN</td>\n",
       "      <td>NaN</td>\n",
       "      <td>NaN</td>\n",
       "      <td>NaN</td>\n",
       "    </tr>\n",
       "    <tr>\n",
       "      <th>2011-09-01</th>\n",
       "      <td>1.0</td>\n",
       "      <td>0.298658</td>\n",
       "      <td>0.325503</td>\n",
       "      <td>0.120805</td>\n",
       "      <td>NaN</td>\n",
       "      <td>NaN</td>\n",
       "      <td>NaN</td>\n",
       "      <td>NaN</td>\n",
       "      <td>NaN</td>\n",
       "      <td>NaN</td>\n",
       "      <td>NaN</td>\n",
       "      <td>NaN</td>\n",
       "      <td>NaN</td>\n",
       "    </tr>\n",
       "    <tr>\n",
       "      <th>2011-10-01</th>\n",
       "      <td>1.0</td>\n",
       "      <td>0.264205</td>\n",
       "      <td>0.130682</td>\n",
       "      <td>NaN</td>\n",
       "      <td>NaN</td>\n",
       "      <td>NaN</td>\n",
       "      <td>NaN</td>\n",
       "      <td>NaN</td>\n",
       "      <td>NaN</td>\n",
       "      <td>NaN</td>\n",
       "      <td>NaN</td>\n",
       "      <td>NaN</td>\n",
       "      <td>NaN</td>\n",
       "    </tr>\n",
       "    <tr>\n",
       "      <th>2011-11-01</th>\n",
       "      <td>1.0</td>\n",
       "      <td>0.133956</td>\n",
       "      <td>NaN</td>\n",
       "      <td>NaN</td>\n",
       "      <td>NaN</td>\n",
       "      <td>NaN</td>\n",
       "      <td>NaN</td>\n",
       "      <td>NaN</td>\n",
       "      <td>NaN</td>\n",
       "      <td>NaN</td>\n",
       "      <td>NaN</td>\n",
       "      <td>NaN</td>\n",
       "      <td>NaN</td>\n",
       "    </tr>\n",
       "    <tr>\n",
       "      <th>2011-12-01</th>\n",
       "      <td>1.0</td>\n",
       "      <td>NaN</td>\n",
       "      <td>NaN</td>\n",
       "      <td>NaN</td>\n",
       "      <td>NaN</td>\n",
       "      <td>NaN</td>\n",
       "      <td>NaN</td>\n",
       "      <td>NaN</td>\n",
       "      <td>NaN</td>\n",
       "      <td>NaN</td>\n",
       "      <td>NaN</td>\n",
       "      <td>NaN</td>\n",
       "      <td>NaN</td>\n",
       "    </tr>\n",
       "  </tbody>\n",
       "</table>\n",
       "</div>"
      ],
      "text/plain": [
       "lifetime            0         1         2         3         4         5   \\\n",
       "first_visit_month                                                          \n",
       "2010-12-01         1.0  0.381857  0.334388  0.387131  0.359705  0.396624   \n",
       "2011-01-01         1.0  0.239905  0.282660  0.242280  0.327791  0.299287   \n",
       "2011-02-01         1.0  0.247368  0.192105  0.278947  0.268421  0.247368   \n",
       "2011-03-01         1.0  0.190909  0.254545  0.218182  0.231818  0.177273   \n",
       "2011-04-01         1.0  0.227425  0.220736  0.210702  0.207358  0.237458   \n",
       "2011-05-01         1.0  0.236559  0.172043  0.172043  0.215054  0.243728   \n",
       "2011-06-01         1.0  0.208511  0.187234  0.272340  0.246809  0.336170   \n",
       "2011-07-01         1.0  0.209424  0.204188  0.230366  0.272251  0.115183   \n",
       "2011-08-01         1.0  0.251497  0.251497  0.251497  0.137725       NaN   \n",
       "2011-09-01         1.0  0.298658  0.325503  0.120805       NaN       NaN   \n",
       "2011-10-01         1.0  0.264205  0.130682       NaN       NaN       NaN   \n",
       "2011-11-01         1.0  0.133956       NaN       NaN       NaN       NaN   \n",
       "2011-12-01         1.0       NaN       NaN       NaN       NaN       NaN   \n",
       "\n",
       "lifetime                 6         7         8         9         10        11  \\\n",
       "first_visit_month                                                               \n",
       "2010-12-01         0.379747  0.354430  0.354430  0.394515  0.373418  0.500000   \n",
       "2011-01-01         0.261283  0.256532  0.311164  0.346793  0.368171  0.149644   \n",
       "2011-02-01         0.255263  0.281579  0.257895  0.313158  0.092105       NaN   \n",
       "2011-03-01         0.263636  0.238636  0.288636  0.088636       NaN       NaN   \n",
       "2011-04-01         0.230769  0.260870  0.083612       NaN       NaN       NaN   \n",
       "2011-05-01         0.265233  0.103943       NaN       NaN       NaN       NaN   \n",
       "2011-06-01         0.102128       NaN       NaN       NaN       NaN       NaN   \n",
       "2011-07-01              NaN       NaN       NaN       NaN       NaN       NaN   \n",
       "2011-08-01              NaN       NaN       NaN       NaN       NaN       NaN   \n",
       "2011-09-01              NaN       NaN       NaN       NaN       NaN       NaN   \n",
       "2011-10-01              NaN       NaN       NaN       NaN       NaN       NaN   \n",
       "2011-11-01              NaN       NaN       NaN       NaN       NaN       NaN   \n",
       "2011-12-01              NaN       NaN       NaN       NaN       NaN       NaN   \n",
       "\n",
       "lifetime                 12  \n",
       "first_visit_month            \n",
       "2010-12-01         0.274262  \n",
       "2011-01-01              NaN  \n",
       "2011-02-01              NaN  \n",
       "2011-03-01              NaN  \n",
       "2011-04-01              NaN  \n",
       "2011-05-01              NaN  \n",
       "2011-06-01              NaN  \n",
       "2011-07-01              NaN  \n",
       "2011-08-01              NaN  \n",
       "2011-09-01              NaN  \n",
       "2011-10-01              NaN  \n",
       "2011-11-01              NaN  \n",
       "2011-12-01              NaN  "
      ]
     },
     "execution_count": 18,
     "metadata": {},
     "output_type": "execute_result"
    }
   ],
   "source": [
    "visits_retention_pivot"
   ]
  },
  {
   "cell_type": "code",
   "execution_count": 16,
   "metadata": {},
   "outputs": [
    {
     "data": {
      "image/png": "[encoded data removed]",
      "text/plain": [
       "<Figure size 1152x648 with 2 Axes>"
      ]
     },
     "metadata": {
      "needs_background": "light"
     },
     "output_type": "display_data"
    }
   ],
   "source": [
    "plt.figure(figsize = (16, 9))\n",
    "plt.title('Когортный анализ', fontsize=30)\n",
    "ax = sns.heatmap(visits_retention_pivot, annot=True, fmt='.2%', linewidths=1, linecolor='white')\n",
    "ax.set_yticklabels(visits_retention_pivot.index.date)\n",
    "\n",
    "ax.set_ylabel('Первое посещение (месяц)', fontsize=15)\n",
    "ax.set_xlabel('Жизненный цикл', fontsize=15)\n",
    "\n",
    "plt.show()"
   ]
  },
  {
   "cell_type": "markdown",
   "metadata": {},
   "source": [
    "<div class=\"alert alert-block alert-success\">\n",
    "    <h2> Промежуточный итог:</h2>\n",
    "\n",
    "- Основная масса покупателей (около 80%) перестают пользоваться сервисом после первого месяца;\n",
    "- Оставшиеся пользователи становятся +- постоянными (отток либо очень маленький либо наоборот - наблюдается приток);\n",
    "- Исключение состаявляет 1-ая когорта - у неё самый маленький отток по сравнению с другими когортами, а количество действующих покупателей не падает ниже 30% (за исключением последнего месяца);\n",
    "- Под Новый Год (декабрь 2011) наблюдается колоссальный отток покупателей по всем когортам (в 2.5-3 раза меньше по сравнению с предыдущим периодом);\n",
    "    \n",
    "</div>"
   ]
  },
  {
   "cell_type": "code",
   "execution_count": null,
   "metadata": {},
   "outputs": [],
   "source": []
  }
 ],
 "metadata": {
  "colab": {
   "collapsed_sections": [],
   "name": "Task 4 practice",
   "provenance": []
  },
  "kernelspec": {
   "display_name": "Python 3",
   "language": "python",
   "name": "python3"
  },
  "language_info": {
   "codemirror_mode": {
    "name": "ipython",
    "version": 3
   },
   "file_extension": ".py",
   "mimetype": "text/x-python",
   "name": "python",
   "nbconvert_exporter": "python",
   "pygments_lexer": "ipython3",
   "version": "3.7.6"
  }
 },
 "nbformat": 4,
 "nbformat_minor": 4
}
