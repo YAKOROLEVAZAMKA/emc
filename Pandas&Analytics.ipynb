{
 "cells": [
  {
   "cell_type": "markdown",
   "metadata": {
    "id": "MG-bbLZjmZx0"
   },
   "source": [
    "# Practice\n",
    "Failure to see a doctor is a serious public health problem. Missed appointments cost the US healthcare system nearly [$ 200 each](https://www.ncbi.nlm.nih.gov/pmc/articles/PMC4714455/). Therefore, it should come as no surprise that reducing absenteeism has become a priority in the United States and around the world. [Numerous studies](https://www.ncbi.nlm.nih.gov/pmc/articles/PMC3962267/) have been conducted to identify the most effective means of reducing absenteeism. The first step to solving the problem is to understand why the patient is missing a scheduled appointment.\n",
    "\n",
    "[Data](https://drive.google.com/open?id=1bvlBkt0AYFw6ZLSjB41xHLnCLkweXxXE),\n",
    "\n",
    "A description of the data can be found at [Kaggle](https://www.kaggle.com/joniarroba/noshowappointments)"
   ]
  },
  {
   "cell_type": "markdown",
   "metadata": {
    "id": "Cc4uCMMyFCsv"
   },
   "source": [
    "We want to answer essentially two questions:\n",
    "\n",
    "\n",
    "1. What is the profile of a person who misses scheduled visits to the doctor?\n",
    "2. What factors influence a no show?\n",
    "\n",
    "Keep this in mind. Accompany your answers with charts, do not forget to label the axes and titles, and also choose not the type of visualization that you understand how it works, but the one that is right for the task."
   ]
  },
  {
   "cell_type": "code",
   "execution_count": null,
   "metadata": {
    "id": "tpyDsaC-mbE8"
   },
   "outputs": [],
   "source": [
    "import pandas as pd\n",
    "import numpy as np\n",
    "import matplotlib.pyplot as plt\n",
    "import datetime\n",
    "import time\n",
    "import seaborn as sns"
   ]
  },
  {
   "cell_type": "code",
   "execution_count": null,
   "metadata": {
    "id": "rpVCC37Wvcov"
   },
   "outputs": [],
   "source": [
    "df = pd.read_csv('KaggleV2-May-2016.csv')"
   ]
  },
  {
   "cell_type": "markdown",
   "metadata": {
    "id": "wa21BIWW_er9"
   },
   "source": [
    "#### Task 0\n",
    "Change the no-show column to the show column to remove double negation"
   ]
  },
  {
   "cell_type": "code",
   "execution_count": null,
   "metadata": {
    "id": "O-GRaGD3_pu2"
   },
   "outputs": [],
   "source": []
  },
  {
   "cell_type": "markdown",
   "metadata": {
    "id": "UDw6XbNvFvKu"
   },
   "source": [
    "#### Task 1\n",
    "Check data for gaps and outliers"
   ]
  },
  {
   "cell_type": "code",
   "execution_count": null,
   "metadata": {
    "id": "LmqXggKkFoSO"
   },
   "outputs": [],
   "source": []
  },
  {
   "cell_type": "markdown",
   "metadata": {
    "id": "Uv5otPJkF3F9"
   },
   "source": [
    "#### Task 2\n",
    "Cast columns to correct data types (at least temporary)"
   ]
  },
  {
   "cell_type": "code",
   "execution_count": null,
   "metadata": {
    "id": "jTyfe3frGDVS"
   },
   "outputs": [],
   "source": []
  },
  {
   "cell_type": "markdown",
   "metadata": {
    "id": "IdkgSpdVGFut"
   },
   "source": [
    "#### Task 3\n",
    "Check age ranges (Age)\n",
    "\n",
    "Are there any entries that seem suspicious to you?\n",
    "Should these records be kept or should they be removed? Why do you think so (the description of the data on the kaggle website can help in solving this question)?"
   ]
  },
  {
   "cell_type": "code",
   "execution_count": null,
   "metadata": {
    "id": "w0ZaIvkTGmkv"
   },
   "outputs": [],
   "source": []
  },
  {
   "cell_type": "markdown",
   "metadata": {
    "id": "2VqmVFFZHcGy"
   },
   "source": [
    "#### Task 4\n",
    "Are the patients unique in our table? Are we dealing with a list of one-off appointments, or at least some of them are regular?"
   ]
  },
  {
   "cell_type": "code",
   "execution_count": null,
   "metadata": {
    "id": "iD2fl_toHtj_"
   },
   "outputs": [],
   "source": []
  },
  {
   "cell_type": "markdown",
   "metadata": {
    "id": "j4CJ2UHoH_DW"
   },
   "source": [
    "#### Task 5\n",
    "If we have repeated visits, does the number (1st, 2nd, 3rd ...) of the reception somehow affect the turnout? Where absenteeism occurs more often, for regular visits or for one-off?"
   ]
  },
  {
   "cell_type": "code",
   "execution_count": null,
   "metadata": {
    "id": "r6fShmlRIM0a"
   },
   "outputs": [],
   "source": []
  },
  {
   "cell_type": "markdown",
   "metadata": {
    "id": "GTQDSs-LGnLa"
   },
   "source": [
    "#### Task 6\n",
    "Explore the effect of age on turnout"
   ]
  },
  {
   "cell_type": "code",
   "execution_count": null,
   "metadata": {
    "id": "SNCM5KCVHLdJ"
   },
   "outputs": [],
   "source": []
  },
  {
   "cell_type": "markdown",
   "metadata": {
    "id": "49LJL5F9IOyi"
   },
   "source": [
    "#### Task 7\n",
    "For the breakdown by age, add a breakdown by gender. Maybe one gender skips receptions more often than the other? In all age groups, we can confidently compare the chance of missing (in other words, is there a bias in any of the groups towards men or women in the number of appointments)?"
   ]
  },
  {
   "cell_type": "code",
   "execution_count": null,
   "metadata": {
    "id": "U_BCYhzfIzph"
   },
   "outputs": [],
   "source": []
  },
  {
   "cell_type": "markdown",
   "metadata": {
    "id": "UUjuB0jVI6zf"
   },
   "source": [
    "#### Task 8\n",
    "Investigate the effect of waiting time on attendance. You can use the same approach as in task 5."
   ]
  },
  {
   "cell_type": "code",
   "execution_count": null,
   "metadata": {
    "id": "9iFSgX17JTDs"
   },
   "outputs": [],
   "source": []
  },
  {
   "cell_type": "markdown",
   "metadata": {
    "id": "IonkKH8BJToj"
   },
   "source": [
    "#### Task 9\n",
    "In general, for the sample, does SMS affect turnout?"
   ]
  },
  {
   "cell_type": "code",
   "execution_count": null,
   "metadata": {
    "id": "AAi8NohQKQPw"
   },
   "outputs": [],
   "source": []
  },
  {
   "cell_type": "markdown",
   "metadata": {
    "id": "s6OZOS0qKSkb"
   },
   "source": [
    "#### Task 10\n",
    "Investigate the impact of texting on truant turnout. A truant is someone who missed an appointment at least once.\n",
    "\n",
    "Are these conclusions correct for those patients who had more than 1 entry (> = 5 entries)?"
   ]
  },
  {
   "cell_type": "code",
   "execution_count": null,
   "metadata": {
    "id": "GwaN8DouKgFQ"
   },
   "outputs": [],
   "source": []
  },
  {
   "cell_type": "markdown",
   "metadata": {
    "id": "O0Ia8qaaouDi"
   },
   "source": [
    "### Task 11\n",
    "Conduct a cohort analysis for customers of the online store, displaying retention (the percentage of customers in the cohort in the period 1-2-3, etc.).\n"
   ]
  },
  {
   "cell_type": "markdown",
   "metadata": {
    "id": "ZmqUhZYBq2c8"
   },
   "source": [
    "Data for work can be downloaded via the [link](https://drive.google.com/file/d/1K5LLBiCZ6p_34ANiMo0rI46xMdP5ZfRT/view?usp=sharing). This is data on the sales of goods from one online store, the data contains the number of the receipt, the number of the item in the warehouse, its description, the number of items in the check line, date, price per unit, customer ID, as well as the country in which the sale took place."
   ]
  },
  {
   "cell_type": "code",
   "execution_count": null,
   "metadata": {
    "colab": {
     "base_uri": "https://localhost:8080/",
     "height": 419
    },
    "id": "yAKEEUpiEVUJ",
    "outputId": "8683f03d-c0f3-4b9d-e409-5b06d1ad104c"
   },
   "outputs": [],
   "source": [
    "data = pd.read_csv('online retail.csv', encoding='latin1')\n",
    "data"
   ]
  },
  {
   "cell_type": "code",
   "execution_count": null,
   "metadata": {
    "id": "YdA06sGVDGpz"
   },
   "outputs": [],
   "source": []
  }
 ],
 "metadata": {
  "colab": {
   "collapsed_sections": [],
   "name": "Task 4 practice",
   "provenance": []
  },
  "kernelspec": {
   "display_name": "Python 3",
   "language": "python",
   "name": "python3"
  },
  "language_info": {
   "codemirror_mode": {
    "name": "ipython",
    "version": 3
   },
   "file_extension": ".py",
   "mimetype": "text/x-python",
   "name": "python",
   "nbconvert_exporter": "python",
   "pygments_lexer": "ipython3",
   "version": "3.7.6"
  }
 },
 "nbformat": 4,
 "nbformat_minor": 4
}
